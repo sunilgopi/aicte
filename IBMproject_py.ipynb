{
  "nbformat": 4,
  "nbformat_minor": 0,
  "metadata": {
    "colab": {
      "provenance": []
    },
    "kernelspec": {
      "name": "python3",
      "display_name": "Python 3"
    },
    "language_info": {
      "name": "python"
    }
  },
  "cells": [
    {
      "cell_type": "markdown",
      "source": [
        "# Import Drive\n"
      ],
      "metadata": {
        "id": "cJmf1B2ra4bd"
      }
    },
    {
      "cell_type": "code",
      "source": [
        "from google.colab import drive\n",
        "drive.mount('/content/drive')"
      ],
      "metadata": {
        "colab": {
          "base_uri": "https://localhost:8080/"
        },
        "id": "vTmOSBVibQsb",
        "outputId": "6f442b70-f71f-460b-93b8-76ebd5c54484"
      },
      "execution_count": null,
      "outputs": [
        {
          "output_type": "stream",
          "name": "stdout",
          "text": [
            "Drive already mounted at /content/drive; to attempt to forcibly remount, call drive.mount(\"/content/drive\", force_remount=True).\n"
          ]
        }
      ]
    },
    {
      "cell_type": "markdown",
      "source": [
        "# Import Libraries"
      ],
      "metadata": {
        "id": "yfY81APajcil"
      }
    },
    {
      "cell_type": "code",
      "source": [
        "import pandas as pd\n",
        "import numpy as np\n",
        "import matplotlib.pyplot as plt\n"
      ],
      "metadata": {
        "id": "si2sepU1kJ0N"
      },
      "execution_count": null,
      "outputs": []
    },
    {
      "cell_type": "markdown",
      "source": [
        "## Importing The Datase"
      ],
      "metadata": {
        "id": "EdEOPIYvk-9B"
      }
    },
    {
      "cell_type": "code",
      "source": [
        "data1=pd.read_csv('/content/prevalence-by-mental-and-substance-use-disorder.csv')\n",
        "data2=pd.read_csv('/content/mental-and-substance-use-as-share-of-disease.csv')\n",
        "\n",
        "#Merging the Dataset for optimal results\n",
        "\n",
        "dataset=pd.merge(data2,data1)\n",
        "dataset.head()"
      ],
      "metadata": {
        "colab": {
          "base_uri": "https://localhost:8080/",
          "height": 389
        },
        "id": "UNVi5Sq1kQjh",
        "outputId": "fc179632-f5f1-430e-d5c2-728adc5931aa"
      },
      "execution_count": null,
      "outputs": [
        {
          "output_type": "execute_result",
          "data": {
            "text/plain": [
              "        Entity Code  Year  \\\n",
              "0  Afghanistan  AFG  1990   \n",
              "1  Afghanistan  AFG  1991   \n",
              "2  Afghanistan  AFG  1992   \n",
              "3  Afghanistan  AFG  1993   \n",
              "4  Afghanistan  AFG  1994   \n",
              "\n",
              "   DALYs (Disability-Adjusted Life Years) - Mental disorders - Sex: Both - Age: All Ages (Percent)  \\\n",
              "0                                           1.696670                                                 \n",
              "1                                           1.734281                                                 \n",
              "2                                           1.791189                                                 \n",
              "3                                           1.776779                                                 \n",
              "4                                           1.712986                                                 \n",
              "\n",
              "   Prevalence - Schizophrenia - Sex: Both - Age: Age-standardized (Percent)  \\\n",
              "0                                           0.228979                          \n",
              "1                                           0.228120                          \n",
              "2                                           0.227328                          \n",
              "3                                           0.226468                          \n",
              "4                                           0.225567                          \n",
              "\n",
              "   Prevalence - Bipolar disorder - Sex: Both - Age: Age-standardized (Percent)  \\\n",
              "0                                           0.721207                             \n",
              "1                                           0.719952                             \n",
              "2                                           0.718418                             \n",
              "3                                           0.717452                             \n",
              "4                                           0.717012                             \n",
              "\n",
              "   Prevalence - Eating disorders - Sex: Both - Age: Age-standardized (Percent)  \\\n",
              "0                                           0.131001                             \n",
              "1                                           0.126395                             \n",
              "2                                           0.121832                             \n",
              "3                                           0.117942                             \n",
              "4                                           0.114547                             \n",
              "\n",
              "   Prevalence - Anxiety disorders - Sex: Both - Age: Age-standardized (Percent)  \\\n",
              "0                                           4.835127                              \n",
              "1                                           4.821765                              \n",
              "2                                           4.801434                              \n",
              "3                                           4.789363                              \n",
              "4                                           4.784923                              \n",
              "\n",
              "   Prevalence - Drug use disorders - Sex: Both - Age: Age-standardized (Percent)  \\\n",
              "0                                           0.454202                               \n",
              "1                                           0.447112                               \n",
              "2                                           0.441190                               \n",
              "3                                           0.435581                               \n",
              "4                                           0.431822                               \n",
              "\n",
              "   Prevalence - Depressive disorders - Sex: Both - Age: Age-standardized (Percent)  \\\n",
              "0                                           5.125291                                 \n",
              "1                                           5.116306                                 \n",
              "2                                           5.106558                                 \n",
              "3                                           5.100328                                 \n",
              "4                                           5.099424                                 \n",
              "\n",
              "   Prevalence - Alcohol use disorders - Sex: Both - Age: Age-standardized (Percent)  \n",
              "0                                           0.444036                                 \n",
              "1                                           0.444250                                 \n",
              "2                                           0.445501                                 \n",
              "3                                           0.445958                                 \n",
              "4                                           0.445779                                 "
            ],
            "text/html": [
              "\n",
              "  <div id=\"df-4c2a3ad0-09fc-4ef9-9b20-ceceb4907f5f\">\n",
              "    <div class=\"colab-df-container\">\n",
              "      <div>\n",
              "<style scoped>\n",
              "    .dataframe tbody tr th:only-of-type {\n",
              "        vertical-align: middle;\n",
              "    }\n",
              "\n",
              "    .dataframe tbody tr th {\n",
              "        vertical-align: top;\n",
              "    }\n",
              "\n",
              "    .dataframe thead th {\n",
              "        text-align: right;\n",
              "    }\n",
              "</style>\n",
              "<table border=\"1\" class=\"dataframe\">\n",
              "  <thead>\n",
              "    <tr style=\"text-align: right;\">\n",
              "      <th></th>\n",
              "      <th>Entity</th>\n",
              "      <th>Code</th>\n",
              "      <th>Year</th>\n",
              "      <th>DALYs (Disability-Adjusted Life Years) - Mental disorders - Sex: Both - Age: All Ages (Percent)</th>\n",
              "      <th>Prevalence - Schizophrenia - Sex: Both - Age: Age-standardized (Percent)</th>\n",
              "      <th>Prevalence - Bipolar disorder - Sex: Both - Age: Age-standardized (Percent)</th>\n",
              "      <th>Prevalence - Eating disorders - Sex: Both - Age: Age-standardized (Percent)</th>\n",
              "      <th>Prevalence - Anxiety disorders - Sex: Both - Age: Age-standardized (Percent)</th>\n",
              "      <th>Prevalence - Drug use disorders - Sex: Both - Age: Age-standardized (Percent)</th>\n",
              "      <th>Prevalence - Depressive disorders - Sex: Both - Age: Age-standardized (Percent)</th>\n",
              "      <th>Prevalence - Alcohol use disorders - Sex: Both - Age: Age-standardized (Percent)</th>\n",
              "    </tr>\n",
              "  </thead>\n",
              "  <tbody>\n",
              "    <tr>\n",
              "      <th>0</th>\n",
              "      <td>Afghanistan</td>\n",
              "      <td>AFG</td>\n",
              "      <td>1990</td>\n",
              "      <td>1.696670</td>\n",
              "      <td>0.228979</td>\n",
              "      <td>0.721207</td>\n",
              "      <td>0.131001</td>\n",
              "      <td>4.835127</td>\n",
              "      <td>0.454202</td>\n",
              "      <td>5.125291</td>\n",
              "      <td>0.444036</td>\n",
              "    </tr>\n",
              "    <tr>\n",
              "      <th>1</th>\n",
              "      <td>Afghanistan</td>\n",
              "      <td>AFG</td>\n",
              "      <td>1991</td>\n",
              "      <td>1.734281</td>\n",
              "      <td>0.228120</td>\n",
              "      <td>0.719952</td>\n",
              "      <td>0.126395</td>\n",
              "      <td>4.821765</td>\n",
              "      <td>0.447112</td>\n",
              "      <td>5.116306</td>\n",
              "      <td>0.444250</td>\n",
              "    </tr>\n",
              "    <tr>\n",
              "      <th>2</th>\n",
              "      <td>Afghanistan</td>\n",
              "      <td>AFG</td>\n",
              "      <td>1992</td>\n",
              "      <td>1.791189</td>\n",
              "      <td>0.227328</td>\n",
              "      <td>0.718418</td>\n",
              "      <td>0.121832</td>\n",
              "      <td>4.801434</td>\n",
              "      <td>0.441190</td>\n",
              "      <td>5.106558</td>\n",
              "      <td>0.445501</td>\n",
              "    </tr>\n",
              "    <tr>\n",
              "      <th>3</th>\n",
              "      <td>Afghanistan</td>\n",
              "      <td>AFG</td>\n",
              "      <td>1993</td>\n",
              "      <td>1.776779</td>\n",
              "      <td>0.226468</td>\n",
              "      <td>0.717452</td>\n",
              "      <td>0.117942</td>\n",
              "      <td>4.789363</td>\n",
              "      <td>0.435581</td>\n",
              "      <td>5.100328</td>\n",
              "      <td>0.445958</td>\n",
              "    </tr>\n",
              "    <tr>\n",
              "      <th>4</th>\n",
              "      <td>Afghanistan</td>\n",
              "      <td>AFG</td>\n",
              "      <td>1994</td>\n",
              "      <td>1.712986</td>\n",
              "      <td>0.225567</td>\n",
              "      <td>0.717012</td>\n",
              "      <td>0.114547</td>\n",
              "      <td>4.784923</td>\n",
              "      <td>0.431822</td>\n",
              "      <td>5.099424</td>\n",
              "      <td>0.445779</td>\n",
              "    </tr>\n",
              "  </tbody>\n",
              "</table>\n",
              "</div>\n",
              "      <button class=\"colab-df-convert\" onclick=\"convertToInteractive('df-4c2a3ad0-09fc-4ef9-9b20-ceceb4907f5f')\"\n",
              "              title=\"Convert this dataframe to an interactive table.\"\n",
              "              style=\"display:none;\">\n",
              "        \n",
              "  <svg xmlns=\"http://www.w3.org/2000/svg\" height=\"24px\"viewBox=\"0 0 24 24\"\n",
              "       width=\"24px\">\n",
              "    <path d=\"M0 0h24v24H0V0z\" fill=\"none\"/>\n",
              "    <path d=\"M18.56 5.44l.94 2.06.94-2.06 2.06-.94-2.06-.94-.94-2.06-.94 2.06-2.06.94zm-11 1L8.5 8.5l.94-2.06 2.06-.94-2.06-.94L8.5 2.5l-.94 2.06-2.06.94zm10 10l.94 2.06.94-2.06 2.06-.94-2.06-.94-.94-2.06-.94 2.06-2.06.94z\"/><path d=\"M17.41 7.96l-1.37-1.37c-.4-.4-.92-.59-1.43-.59-.52 0-1.04.2-1.43.59L10.3 9.45l-7.72 7.72c-.78.78-.78 2.05 0 2.83L4 21.41c.39.39.9.59 1.41.59.51 0 1.02-.2 1.41-.59l7.78-7.78 2.81-2.81c.8-.78.8-2.07 0-2.86zM5.41 20L4 18.59l7.72-7.72 1.47 1.35L5.41 20z\"/>\n",
              "  </svg>\n",
              "      </button>\n",
              "      \n",
              "  <style>\n",
              "    .colab-df-container {\n",
              "      display:flex;\n",
              "      flex-wrap:wrap;\n",
              "      gap: 12px;\n",
              "    }\n",
              "\n",
              "    .colab-df-convert {\n",
              "      background-color: #E8F0FE;\n",
              "      border: none;\n",
              "      border-radius: 50%;\n",
              "      cursor: pointer;\n",
              "      display: none;\n",
              "      fill: #1967D2;\n",
              "      height: 32px;\n",
              "      padding: 0 0 0 0;\n",
              "      width: 32px;\n",
              "    }\n",
              "\n",
              "    .colab-df-convert:hover {\n",
              "      background-color: #E2EBFA;\n",
              "      box-shadow: 0px 1px 2px rgba(60, 64, 67, 0.3), 0px 1px 3px 1px rgba(60, 64, 67, 0.15);\n",
              "      fill: #174EA6;\n",
              "    }\n",
              "\n",
              "    [theme=dark] .colab-df-convert {\n",
              "      background-color: #3B4455;\n",
              "      fill: #D2E3FC;\n",
              "    }\n",
              "\n",
              "    [theme=dark] .colab-df-convert:hover {\n",
              "      background-color: #434B5C;\n",
              "      box-shadow: 0px 1px 3px 1px rgba(0, 0, 0, 0.15);\n",
              "      filter: drop-shadow(0px 1px 2px rgba(0, 0, 0, 0.3));\n",
              "      fill: #FFFFFF;\n",
              "    }\n",
              "  </style>\n",
              "\n",
              "      <script>\n",
              "        const buttonEl =\n",
              "          document.querySelector('#df-4c2a3ad0-09fc-4ef9-9b20-ceceb4907f5f button.colab-df-convert');\n",
              "        buttonEl.style.display =\n",
              "          google.colab.kernel.accessAllowed ? 'block' : 'none';\n",
              "\n",
              "        async function convertToInteractive(key) {\n",
              "          const element = document.querySelector('#df-4c2a3ad0-09fc-4ef9-9b20-ceceb4907f5f');\n",
              "          const dataTable =\n",
              "            await google.colab.kernel.invokeFunction('convertToInteractive',\n",
              "                                                     [key], {});\n",
              "          if (!dataTable) return;\n",
              "\n",
              "          const docLinkHtml = 'Like what you see? Visit the ' +\n",
              "            '<a target=\"_blank\" href=https://colab.research.google.com/notebooks/data_table.ipynb>data table notebook</a>'\n",
              "            + ' to learn more about interactive tables.';\n",
              "          element.innerHTML = '';\n",
              "          dataTable['output_type'] = 'display_data';\n",
              "          await google.colab.output.renderOutput(dataTable, element);\n",
              "          const docLink = document.createElement('div');\n",
              "          docLink.innerHTML = docLinkHtml;\n",
              "          element.appendChild(docLink);\n",
              "        }\n",
              "      </script>\n",
              "    </div>\n",
              "  </div>\n",
              "  "
            ]
          },
          "metadata": {},
          "execution_count": 22
        }
      ]
    },
    {
      "cell_type": "markdown",
      "source": [
        "## **Cleaning** the Dataset"
      ],
      "metadata": {
        "id": "WsB5ld5RlQva"
      }
    },
    {
      "cell_type": "code",
      "source": [
        "dataset.isnull().sum()\n"
      ],
      "metadata": {
        "colab": {
          "base_uri": "https://localhost:8080/"
        },
        "id": "T04ld17UbP-9",
        "outputId": "15c6b920-aaf6-45c2-ed29-522feb096013"
      },
      "execution_count": null,
      "outputs": [
        {
          "output_type": "execute_result",
          "data": {
            "text/plain": [
              "Entity                                                                                               0\n",
              "Code                                                                                               690\n",
              "Year                                                                                                 0\n",
              "DALYs (Disability-Adjusted Life Years) - Mental disorders - Sex: Both - Age: All Ages (Percent)      0\n",
              "Prevalence - Schizophrenia - Sex: Both - Age: Age-standardized (Percent)                             0\n",
              "Prevalence - Bipolar disorder - Sex: Both - Age: Age-standardized (Percent)                          0\n",
              "Prevalence - Eating disorders - Sex: Both - Age: Age-standardized (Percent)                          0\n",
              "Prevalence - Anxiety disorders - Sex: Both - Age: Age-standardized (Percent)                         0\n",
              "Prevalence - Drug use disorders - Sex: Both - Age: Age-standardized (Percent)                        0\n",
              "Prevalence - Depressive disorders - Sex: Both - Age: Age-standardized (Percent)                      0\n",
              "Prevalence - Alcohol use disorders - Sex: Both - Age: Age-standardized (Percent)                     0\n",
              "dtype: int64"
            ]
          },
          "metadata": {},
          "execution_count": 23
        }
      ]
    },
    {
      "cell_type": "code",
      "source": [
        "dataset.drop('Code',axis=1,inplace=True)"
      ],
      "metadata": {
        "id": "x5fyzIH2bODH"
      },
      "execution_count": null,
      "outputs": []
    },
    {
      "cell_type": "code",
      "source": [
        "dataset.isnull().sum()"
      ],
      "metadata": {
        "colab": {
          "base_uri": "https://localhost:8080/"
        },
        "id": "SQnHPlKUapeR",
        "outputId": "5ddf2f47-b946-4ea3-f07c-2644a90292e6"
      },
      "execution_count": null,
      "outputs": [
        {
          "output_type": "execute_result",
          "data": {
            "text/plain": [
              "Entity                                                                                             0\n",
              "Year                                                                                               0\n",
              "DALYs (Disability-Adjusted Life Years) - Mental disorders - Sex: Both - Age: All Ages (Percent)    0\n",
              "Prevalence - Schizophrenia - Sex: Both - Age: Age-standardized (Percent)                           0\n",
              "Prevalence - Bipolar disorder - Sex: Both - Age: Age-standardized (Percent)                        0\n",
              "Prevalence - Eating disorders - Sex: Both - Age: Age-standardized (Percent)                        0\n",
              "Prevalence - Anxiety disorders - Sex: Both - Age: Age-standardized (Percent)                       0\n",
              "Prevalence - Drug use disorders - Sex: Both - Age: Age-standardized (Percent)                      0\n",
              "Prevalence - Depressive disorders - Sex: Both - Age: Age-standardized (Percent)                    0\n",
              "Prevalence - Alcohol use disorders - Sex: Both - Age: Age-standardized (Percent)                   0\n",
              "dtype: int64"
            ]
          },
          "metadata": {},
          "execution_count": 27
        }
      ]
    },
    {
      "cell_type": "code",
      "source": [
        "dataset.set_axis(['Country','Year','Schizophrenia', 'Bipolar_disorder', 'Eating_disorder','Anxiety','drug_usage','depression','alcohol','mental_fitness'], axis='columns', inplace=True)"
      ],
      "metadata": {
        "colab": {
          "base_uri": "https://localhost:8080/"
        },
        "id": "5D1LBED1cWW1",
        "outputId": "03a619bd-3ede-40e1-9a8f-d5d3d8194d45"
      },
      "execution_count": null,
      "outputs": [
        {
          "output_type": "stream",
          "name": "stderr",
          "text": [
            "<ipython-input-28-9ae387b48b27>:1: FutureWarning: DataFrame.set_axis 'inplace' keyword is deprecated and will be removed in a future version. Use `obj = obj.set_axis(..., copy=False)` instead\n",
            "  dataset.set_axis(['Country','Year','Schizophrenia', 'Bipolar_disorder', 'Eating_disorder','Anxiety','drug_usage','depression','alcohol','mental_fitness'], axis='columns', inplace=True)\n"
          ]
        }
      ]
    },
    {
      "cell_type": "markdown",
      "source": [
        "## *Encoding* the Categorical values"
      ],
      "metadata": {
        "id": "WQagsAi4llHc"
      }
    },
    {
      "cell_type": "code",
      "source": [
        "dataset.head()"
      ],
      "metadata": {
        "colab": {
          "base_uri": "https://localhost:8080/",
          "height": 206
        },
        "id": "ZyQ_NooOcdvH",
        "outputId": "72228f29-fe6a-4d76-b7a7-3c497d730a8f"
      },
      "execution_count": null,
      "outputs": [
        {
          "output_type": "execute_result",
          "data": {
            "text/plain": [
              "       Country  Year  Schizophrenia  Bipolar_disorder  Eating_disorder  \\\n",
              "0  Afghanistan  1990       0.228979          0.721207         0.131001   \n",
              "1  Afghanistan  1991       0.228120          0.719952         0.126395   \n",
              "2  Afghanistan  1992       0.227328          0.718418         0.121832   \n",
              "3  Afghanistan  1993       0.226468          0.717452         0.117942   \n",
              "4  Afghanistan  1994       0.225567          0.717012         0.114547   \n",
              "\n",
              "    Anxiety  drug_usage  depression   alcohol  mental_fitness  \n",
              "0  4.835127    0.454202    5.125291  0.444036        1.696670  \n",
              "1  4.821765    0.447112    5.116306  0.444250        1.734281  \n",
              "2  4.801434    0.441190    5.106558  0.445501        1.791189  \n",
              "3  4.789363    0.435581    5.100328  0.445958        1.776779  \n",
              "4  4.784923    0.431822    5.099424  0.445779        1.712986  "
            ],
            "text/html": [
              "\n",
              "  <div id=\"df-65ea2b7b-0508-4643-8158-9b252f727bf7\">\n",
              "    <div class=\"colab-df-container\">\n",
              "      <div>\n",
              "<style scoped>\n",
              "    .dataframe tbody tr th:only-of-type {\n",
              "        vertical-align: middle;\n",
              "    }\n",
              "\n",
              "    .dataframe tbody tr th {\n",
              "        vertical-align: top;\n",
              "    }\n",
              "\n",
              "    .dataframe thead th {\n",
              "        text-align: right;\n",
              "    }\n",
              "</style>\n",
              "<table border=\"1\" class=\"dataframe\">\n",
              "  <thead>\n",
              "    <tr style=\"text-align: right;\">\n",
              "      <th></th>\n",
              "      <th>Country</th>\n",
              "      <th>Year</th>\n",
              "      <th>Schizophrenia</th>\n",
              "      <th>Bipolar_disorder</th>\n",
              "      <th>Eating_disorder</th>\n",
              "      <th>Anxiety</th>\n",
              "      <th>drug_usage</th>\n",
              "      <th>depression</th>\n",
              "      <th>alcohol</th>\n",
              "      <th>mental_fitness</th>\n",
              "    </tr>\n",
              "  </thead>\n",
              "  <tbody>\n",
              "    <tr>\n",
              "      <th>0</th>\n",
              "      <td>Afghanistan</td>\n",
              "      <td>1990</td>\n",
              "      <td>0.228979</td>\n",
              "      <td>0.721207</td>\n",
              "      <td>0.131001</td>\n",
              "      <td>4.835127</td>\n",
              "      <td>0.454202</td>\n",
              "      <td>5.125291</td>\n",
              "      <td>0.444036</td>\n",
              "      <td>1.696670</td>\n",
              "    </tr>\n",
              "    <tr>\n",
              "      <th>1</th>\n",
              "      <td>Afghanistan</td>\n",
              "      <td>1991</td>\n",
              "      <td>0.228120</td>\n",
              "      <td>0.719952</td>\n",
              "      <td>0.126395</td>\n",
              "      <td>4.821765</td>\n",
              "      <td>0.447112</td>\n",
              "      <td>5.116306</td>\n",
              "      <td>0.444250</td>\n",
              "      <td>1.734281</td>\n",
              "    </tr>\n",
              "    <tr>\n",
              "      <th>2</th>\n",
              "      <td>Afghanistan</td>\n",
              "      <td>1992</td>\n",
              "      <td>0.227328</td>\n",
              "      <td>0.718418</td>\n",
              "      <td>0.121832</td>\n",
              "      <td>4.801434</td>\n",
              "      <td>0.441190</td>\n",
              "      <td>5.106558</td>\n",
              "      <td>0.445501</td>\n",
              "      <td>1.791189</td>\n",
              "    </tr>\n",
              "    <tr>\n",
              "      <th>3</th>\n",
              "      <td>Afghanistan</td>\n",
              "      <td>1993</td>\n",
              "      <td>0.226468</td>\n",
              "      <td>0.717452</td>\n",
              "      <td>0.117942</td>\n",
              "      <td>4.789363</td>\n",
              "      <td>0.435581</td>\n",
              "      <td>5.100328</td>\n",
              "      <td>0.445958</td>\n",
              "      <td>1.776779</td>\n",
              "    </tr>\n",
              "    <tr>\n",
              "      <th>4</th>\n",
              "      <td>Afghanistan</td>\n",
              "      <td>1994</td>\n",
              "      <td>0.225567</td>\n",
              "      <td>0.717012</td>\n",
              "      <td>0.114547</td>\n",
              "      <td>4.784923</td>\n",
              "      <td>0.431822</td>\n",
              "      <td>5.099424</td>\n",
              "      <td>0.445779</td>\n",
              "      <td>1.712986</td>\n",
              "    </tr>\n",
              "  </tbody>\n",
              "</table>\n",
              "</div>\n",
              "      <button class=\"colab-df-convert\" onclick=\"convertToInteractive('df-65ea2b7b-0508-4643-8158-9b252f727bf7')\"\n",
              "              title=\"Convert this dataframe to an interactive table.\"\n",
              "              style=\"display:none;\">\n",
              "        \n",
              "  <svg xmlns=\"http://www.w3.org/2000/svg\" height=\"24px\"viewBox=\"0 0 24 24\"\n",
              "       width=\"24px\">\n",
              "    <path d=\"M0 0h24v24H0V0z\" fill=\"none\"/>\n",
              "    <path d=\"M18.56 5.44l.94 2.06.94-2.06 2.06-.94-2.06-.94-.94-2.06-.94 2.06-2.06.94zm-11 1L8.5 8.5l.94-2.06 2.06-.94-2.06-.94L8.5 2.5l-.94 2.06-2.06.94zm10 10l.94 2.06.94-2.06 2.06-.94-2.06-.94-.94-2.06-.94 2.06-2.06.94z\"/><path d=\"M17.41 7.96l-1.37-1.37c-.4-.4-.92-.59-1.43-.59-.52 0-1.04.2-1.43.59L10.3 9.45l-7.72 7.72c-.78.78-.78 2.05 0 2.83L4 21.41c.39.39.9.59 1.41.59.51 0 1.02-.2 1.41-.59l7.78-7.78 2.81-2.81c.8-.78.8-2.07 0-2.86zM5.41 20L4 18.59l7.72-7.72 1.47 1.35L5.41 20z\"/>\n",
              "  </svg>\n",
              "      </button>\n",
              "      \n",
              "  <style>\n",
              "    .colab-df-container {\n",
              "      display:flex;\n",
              "      flex-wrap:wrap;\n",
              "      gap: 12px;\n",
              "    }\n",
              "\n",
              "    .colab-df-convert {\n",
              "      background-color: #E8F0FE;\n",
              "      border: none;\n",
              "      border-radius: 50%;\n",
              "      cursor: pointer;\n",
              "      display: none;\n",
              "      fill: #1967D2;\n",
              "      height: 32px;\n",
              "      padding: 0 0 0 0;\n",
              "      width: 32px;\n",
              "    }\n",
              "\n",
              "    .colab-df-convert:hover {\n",
              "      background-color: #E2EBFA;\n",
              "      box-shadow: 0px 1px 2px rgba(60, 64, 67, 0.3), 0px 1px 3px 1px rgba(60, 64, 67, 0.15);\n",
              "      fill: #174EA6;\n",
              "    }\n",
              "\n",
              "    [theme=dark] .colab-df-convert {\n",
              "      background-color: #3B4455;\n",
              "      fill: #D2E3FC;\n",
              "    }\n",
              "\n",
              "    [theme=dark] .colab-df-convert:hover {\n",
              "      background-color: #434B5C;\n",
              "      box-shadow: 0px 1px 3px 1px rgba(0, 0, 0, 0.15);\n",
              "      filter: drop-shadow(0px 1px 2px rgba(0, 0, 0, 0.3));\n",
              "      fill: #FFFFFF;\n",
              "    }\n",
              "  </style>\n",
              "\n",
              "      <script>\n",
              "        const buttonEl =\n",
              "          document.querySelector('#df-65ea2b7b-0508-4643-8158-9b252f727bf7 button.colab-df-convert');\n",
              "        buttonEl.style.display =\n",
              "          google.colab.kernel.accessAllowed ? 'block' : 'none';\n",
              "\n",
              "        async function convertToInteractive(key) {\n",
              "          const element = document.querySelector('#df-65ea2b7b-0508-4643-8158-9b252f727bf7');\n",
              "          const dataTable =\n",
              "            await google.colab.kernel.invokeFunction('convertToInteractive',\n",
              "                                                     [key], {});\n",
              "          if (!dataTable) return;\n",
              "\n",
              "          const docLinkHtml = 'Like what you see? Visit the ' +\n",
              "            '<a target=\"_blank\" href=https://colab.research.google.com/notebooks/data_table.ipynb>data table notebook</a>'\n",
              "            + ' to learn more about interactive tables.';\n",
              "          element.innerHTML = '';\n",
              "          dataTable['output_type'] = 'display_data';\n",
              "          await google.colab.output.renderOutput(dataTable, element);\n",
              "          const docLink = document.createElement('div');\n",
              "          docLink.innerHTML = docLinkHtml;\n",
              "          element.appendChild(docLink);\n",
              "        }\n",
              "      </script>\n",
              "    </div>\n",
              "  </div>\n",
              "  "
            ]
          },
          "metadata": {},
          "execution_count": 11
        }
      ]
    },
    {
      "cell_type": "code",
      "source": [
        "from sklearn.preprocessing import LabelEncoder\n",
        "l=LabelEncoder()\n",
        "for i in dataset.columns:\n",
        "    if dataset[i].dtype == 'object':\n",
        "        dataset[i]=l.fit_transform(dataset[i])\n",
        "\n",
        "\n",
        "dataset.head()"
      ],
      "metadata": {
        "colab": {
          "base_uri": "https://localhost:8080/",
          "height": 206
        },
        "id": "AWyKEBqAcsXH",
        "outputId": "f793ef59-b5fb-4935-e84b-e73a5a133f17"
      },
      "execution_count": null,
      "outputs": [
        {
          "output_type": "execute_result",
          "data": {
            "text/plain": [
              "   Country  Year  Schizophrenia  Bipolar_disorder  Eating_disorder   Anxiety  \\\n",
              "0        0  1990       1.696670          0.228979         0.721207  0.131001   \n",
              "1        0  1991       1.734281          0.228120         0.719952  0.126395   \n",
              "2        0  1992       1.791189          0.227328         0.718418  0.121832   \n",
              "3        0  1993       1.776779          0.226468         0.717452  0.117942   \n",
              "4        0  1994       1.712986          0.225567         0.717012  0.114547   \n",
              "\n",
              "   drug_usage  depression   alcohol  mental_fitness  \n",
              "0    4.835127    0.454202  5.125291        0.444036  \n",
              "1    4.821765    0.447112  5.116306        0.444250  \n",
              "2    4.801434    0.441190  5.106558        0.445501  \n",
              "3    4.789363    0.435581  5.100328        0.445958  \n",
              "4    4.784923    0.431822  5.099424        0.445779  "
            ],
            "text/html": [
              "\n",
              "  <div id=\"df-e240410f-de55-4757-941d-7853e11620e2\">\n",
              "    <div class=\"colab-df-container\">\n",
              "      <div>\n",
              "<style scoped>\n",
              "    .dataframe tbody tr th:only-of-type {\n",
              "        vertical-align: middle;\n",
              "    }\n",
              "\n",
              "    .dataframe tbody tr th {\n",
              "        vertical-align: top;\n",
              "    }\n",
              "\n",
              "    .dataframe thead th {\n",
              "        text-align: right;\n",
              "    }\n",
              "</style>\n",
              "<table border=\"1\" class=\"dataframe\">\n",
              "  <thead>\n",
              "    <tr style=\"text-align: right;\">\n",
              "      <th></th>\n",
              "      <th>Country</th>\n",
              "      <th>Year</th>\n",
              "      <th>Schizophrenia</th>\n",
              "      <th>Bipolar_disorder</th>\n",
              "      <th>Eating_disorder</th>\n",
              "      <th>Anxiety</th>\n",
              "      <th>drug_usage</th>\n",
              "      <th>depression</th>\n",
              "      <th>alcohol</th>\n",
              "      <th>mental_fitness</th>\n",
              "    </tr>\n",
              "  </thead>\n",
              "  <tbody>\n",
              "    <tr>\n",
              "      <th>0</th>\n",
              "      <td>0</td>\n",
              "      <td>1990</td>\n",
              "      <td>1.696670</td>\n",
              "      <td>0.228979</td>\n",
              "      <td>0.721207</td>\n",
              "      <td>0.131001</td>\n",
              "      <td>4.835127</td>\n",
              "      <td>0.454202</td>\n",
              "      <td>5.125291</td>\n",
              "      <td>0.444036</td>\n",
              "    </tr>\n",
              "    <tr>\n",
              "      <th>1</th>\n",
              "      <td>0</td>\n",
              "      <td>1991</td>\n",
              "      <td>1.734281</td>\n",
              "      <td>0.228120</td>\n",
              "      <td>0.719952</td>\n",
              "      <td>0.126395</td>\n",
              "      <td>4.821765</td>\n",
              "      <td>0.447112</td>\n",
              "      <td>5.116306</td>\n",
              "      <td>0.444250</td>\n",
              "    </tr>\n",
              "    <tr>\n",
              "      <th>2</th>\n",
              "      <td>0</td>\n",
              "      <td>1992</td>\n",
              "      <td>1.791189</td>\n",
              "      <td>0.227328</td>\n",
              "      <td>0.718418</td>\n",
              "      <td>0.121832</td>\n",
              "      <td>4.801434</td>\n",
              "      <td>0.441190</td>\n",
              "      <td>5.106558</td>\n",
              "      <td>0.445501</td>\n",
              "    </tr>\n",
              "    <tr>\n",
              "      <th>3</th>\n",
              "      <td>0</td>\n",
              "      <td>1993</td>\n",
              "      <td>1.776779</td>\n",
              "      <td>0.226468</td>\n",
              "      <td>0.717452</td>\n",
              "      <td>0.117942</td>\n",
              "      <td>4.789363</td>\n",
              "      <td>0.435581</td>\n",
              "      <td>5.100328</td>\n",
              "      <td>0.445958</td>\n",
              "    </tr>\n",
              "    <tr>\n",
              "      <th>4</th>\n",
              "      <td>0</td>\n",
              "      <td>1994</td>\n",
              "      <td>1.712986</td>\n",
              "      <td>0.225567</td>\n",
              "      <td>0.717012</td>\n",
              "      <td>0.114547</td>\n",
              "      <td>4.784923</td>\n",
              "      <td>0.431822</td>\n",
              "      <td>5.099424</td>\n",
              "      <td>0.445779</td>\n",
              "    </tr>\n",
              "  </tbody>\n",
              "</table>\n",
              "</div>\n",
              "      <button class=\"colab-df-convert\" onclick=\"convertToInteractive('df-e240410f-de55-4757-941d-7853e11620e2')\"\n",
              "              title=\"Convert this dataframe to an interactive table.\"\n",
              "              style=\"display:none;\">\n",
              "        \n",
              "  <svg xmlns=\"http://www.w3.org/2000/svg\" height=\"24px\"viewBox=\"0 0 24 24\"\n",
              "       width=\"24px\">\n",
              "    <path d=\"M0 0h24v24H0V0z\" fill=\"none\"/>\n",
              "    <path d=\"M18.56 5.44l.94 2.06.94-2.06 2.06-.94-2.06-.94-.94-2.06-.94 2.06-2.06.94zm-11 1L8.5 8.5l.94-2.06 2.06-.94-2.06-.94L8.5 2.5l-.94 2.06-2.06.94zm10 10l.94 2.06.94-2.06 2.06-.94-2.06-.94-.94-2.06-.94 2.06-2.06.94z\"/><path d=\"M17.41 7.96l-1.37-1.37c-.4-.4-.92-.59-1.43-.59-.52 0-1.04.2-1.43.59L10.3 9.45l-7.72 7.72c-.78.78-.78 2.05 0 2.83L4 21.41c.39.39.9.59 1.41.59.51 0 1.02-.2 1.41-.59l7.78-7.78 2.81-2.81c.8-.78.8-2.07 0-2.86zM5.41 20L4 18.59l7.72-7.72 1.47 1.35L5.41 20z\"/>\n",
              "  </svg>\n",
              "      </button>\n",
              "      \n",
              "  <style>\n",
              "    .colab-df-container {\n",
              "      display:flex;\n",
              "      flex-wrap:wrap;\n",
              "      gap: 12px;\n",
              "    }\n",
              "\n",
              "    .colab-df-convert {\n",
              "      background-color: #E8F0FE;\n",
              "      border: none;\n",
              "      border-radius: 50%;\n",
              "      cursor: pointer;\n",
              "      display: none;\n",
              "      fill: #1967D2;\n",
              "      height: 32px;\n",
              "      padding: 0 0 0 0;\n",
              "      width: 32px;\n",
              "    }\n",
              "\n",
              "    .colab-df-convert:hover {\n",
              "      background-color: #E2EBFA;\n",
              "      box-shadow: 0px 1px 2px rgba(60, 64, 67, 0.3), 0px 1px 3px 1px rgba(60, 64, 67, 0.15);\n",
              "      fill: #174EA6;\n",
              "    }\n",
              "\n",
              "    [theme=dark] .colab-df-convert {\n",
              "      background-color: #3B4455;\n",
              "      fill: #D2E3FC;\n",
              "    }\n",
              "\n",
              "    [theme=dark] .colab-df-convert:hover {\n",
              "      background-color: #434B5C;\n",
              "      box-shadow: 0px 1px 3px 1px rgba(0, 0, 0, 0.15);\n",
              "      filter: drop-shadow(0px 1px 2px rgba(0, 0, 0, 0.3));\n",
              "      fill: #FFFFFF;\n",
              "    }\n",
              "  </style>\n",
              "\n",
              "      <script>\n",
              "        const buttonEl =\n",
              "          document.querySelector('#df-e240410f-de55-4757-941d-7853e11620e2 button.colab-df-convert');\n",
              "        buttonEl.style.display =\n",
              "          google.colab.kernel.accessAllowed ? 'block' : 'none';\n",
              "\n",
              "        async function convertToInteractive(key) {\n",
              "          const element = document.querySelector('#df-e240410f-de55-4757-941d-7853e11620e2');\n",
              "          const dataTable =\n",
              "            await google.colab.kernel.invokeFunction('convertToInteractive',\n",
              "                                                     [key], {});\n",
              "          if (!dataTable) return;\n",
              "\n",
              "          const docLinkHtml = 'Like what you see? Visit the ' +\n",
              "            '<a target=\"_blank\" href=https://colab.research.google.com/notebooks/data_table.ipynb>data table notebook</a>'\n",
              "            + ' to learn more about interactive tables.';\n",
              "          element.innerHTML = '';\n",
              "          dataTable['output_type'] = 'display_data';\n",
              "          await google.colab.output.renderOutput(dataTable, element);\n",
              "          const docLink = document.createElement('div');\n",
              "          docLink.innerHTML = docLinkHtml;\n",
              "          element.appendChild(docLink);\n",
              "        }\n",
              "      </script>\n",
              "    </div>\n",
              "  </div>\n",
              "  "
            ]
          },
          "metadata": {},
          "execution_count": 29
        }
      ]
    },
    {
      "cell_type": "code",
      "source": [
        "dataset['Country'].unique()"
      ],
      "metadata": {
        "colab": {
          "base_uri": "https://localhost:8080/"
        },
        "id": "Ls_ZCX64cz0a",
        "outputId": "61c4a8c2-f634-4787-f312-f43139b6d40e"
      },
      "execution_count": null,
      "outputs": [
        {
          "output_type": "execute_result",
          "data": {
            "text/plain": [
              "array([  0,   1,   2,   3,   4,   5,   6,   7,   8,   9,  10,  11,  12,\n",
              "        13,  14,  15,  16,  17,  18,  19,  20,  21,  22,  23,  24,  25,\n",
              "        26,  27,  28,  29,  30,  31,  32,  33,  34,  35,  36,  37,  38,\n",
              "        39,  40,  41,  42,  43,  44,  45,  46,  47,  48,  49,  50,  51,\n",
              "        52,  53,  54,  55,  56,  57,  58,  59,  60,  61,  62,  63,  64,\n",
              "        65,  66,  67,  68,  69,  70,  71,  72,  73,  74,  75,  76,  77,\n",
              "        78,  79,  80,  81,  82,  83,  84,  85,  86,  87,  88,  89,  90,\n",
              "        91,  92,  93,  94,  95,  96,  97,  98,  99, 100, 101, 102, 103,\n",
              "       104, 105, 106, 107, 108, 109, 110, 111, 112, 113, 114, 115, 116,\n",
              "       117, 118, 119, 120, 121, 122, 123, 124, 125, 126, 127, 128, 129,\n",
              "       130, 131, 132, 133, 134, 135, 136, 137, 138, 139, 140, 141, 142,\n",
              "       143, 144, 145, 146, 147, 148, 149, 150, 151, 152, 153, 154, 155,\n",
              "       156, 157, 158, 159, 160, 161, 162, 163, 164, 165, 166, 167, 168,\n",
              "       169, 170, 171, 172, 173, 174, 175, 176, 177, 178, 179, 180, 181,\n",
              "       182, 183, 184, 185, 186, 187, 188, 189, 190, 191, 192, 193, 194,\n",
              "       195, 196, 197, 198, 199, 200, 201, 202, 203, 204, 205, 206, 207,\n",
              "       208, 209, 210, 211, 212, 213, 214, 215, 216, 217, 218, 219, 220,\n",
              "       221, 222, 223, 224, 225, 226, 227])"
            ]
          },
          "metadata": {},
          "execution_count": 13
        }
      ]
    },
    {
      "cell_type": "markdown",
      "source": [
        "## Assigning feautre of Matrix and Dependent *Variable*"
      ],
      "metadata": {
        "id": "WUH1xQ0ml0yA"
      }
    },
    {
      "cell_type": "code",
      "source": [
        "x=dataset.iloc[:,:-1].values\n",
        "y=dataset.iloc[:,-1].values\n",
        "\n"
      ],
      "metadata": {
        "id": "hJDWocVvc43y"
      },
      "execution_count": null,
      "outputs": []
    },
    {
      "cell_type": "markdown",
      "source": [
        "## Spliting the Dataset into Training data set and Testing data set"
      ],
      "metadata": {
        "id": "_ApAl7_Nl_ba"
      }
    },
    {
      "cell_type": "code",
      "source": [
        "from sklearn.model_selection import train_test_split\n",
        "x_train,x_test,y_train,y_test=train_test_split(x,y,test_size=0.2,random_state=0)\n"
      ],
      "metadata": {
        "id": "mhzAfRwdc94m"
      },
      "execution_count": null,
      "outputs": []
    },
    {
      "cell_type": "markdown",
      "source": [
        "Implementing the Regression Algorithms and choose which one is better based on results"
      ],
      "metadata": {
        "id": "AlTjULIOmT6f"
      }
    },
    {
      "cell_type": "markdown",
      "source": [
        "## 1)Linear **regression**"
      ],
      "metadata": {
        "id": "KxKvlRu_mTxG"
      }
    },
    {
      "cell_type": "code",
      "source": [
        "from sklearn.linear_model import LinearRegression\n",
        "lr=LinearRegression()\n",
        "lr.fit(x_train,y_train)\n",
        "\n",
        "#predicting the value\n",
        "\n",
        "y_pred=lr.predict(x_test)\n",
        "\n",
        "#evaluating the model\n",
        "\n",
        "from sklearn.metrics import r2_score,mean_squared_error\n",
        "print(\"Results for Linear Regression:\\n1)Mean Square Error={}\\n2)R-Square Score={}\".format(mean_squared_error(y_test,y_pred),r2_score(y_test,y_pred)))\n",
        "\n",
        "\n"
      ],
      "metadata": {
        "colab": {
          "base_uri": "https://localhost:8080/"
        },
        "id": "LtK7lnKEdCew",
        "outputId": "16c1b82d-08bb-4f96-de92-2b60a558381c"
      },
      "execution_count": null,
      "outputs": [
        {
          "output_type": "stream",
          "name": "stdout",
          "text": [
            "Results for Linear Regression:\n",
            "1)Mean Square Error=0.5650775578645624\n",
            "2)R-Square Score=0.3410754072466926\n"
          ]
        }
      ]
    },
    {
      "cell_type": "markdown",
      "source": [
        "\n",
        "\n",
        "2)SVM Regression"
      ],
      "metadata": {
        "id": "nJv-Tz-um2Pe"
      }
    },
    {
      "cell_type": "code",
      "source": [
        "from sklearn.svm import SVR\n",
        "svr=SVR()\n",
        "svr.fit(x_train,y_train)\n",
        "\n",
        "#predicting the value\n",
        "\n",
        "y_pred=svr.predict(x_test)\n",
        "\n",
        "#evaluating the model\n",
        "\n",
        "from sklearn.metrics import r2_score,mean_squared_error\n",
        "print(\"Results for SVM Regression:\\n1)Mean Square Error={}\\n2)R-Square Score={}\".format(mean_squared_error(y_test,y_pred),r2_score(y_test,y_pred)))\n",
        "\n",
        "\n"
      ],
      "metadata": {
        "colab": {
          "base_uri": "https://localhost:8080/"
        },
        "id": "iUA4HlYLdGy9",
        "outputId": "e0730e9c-b2b2-4d4c-9215-d92790592a48"
      },
      "execution_count": null,
      "outputs": [
        {
          "output_type": "stream",
          "name": "stdout",
          "text": [
            "Results for SVM Regression:\n",
            "1)Mean Square Error=5.142868786835534\n",
            "2)R-Square Score=0.0006911520950431127\n"
          ]
        }
      ]
    },
    {
      "cell_type": "markdown",
      "source": [
        "### 3)Decision Tree Regression"
      ],
      "metadata": {
        "id": "LoCTenu_nMe5"
      }
    },
    {
      "cell_type": "code",
      "source": [
        "from sklearn.tree import DecisionTreeRegressor\n",
        "dtr=DecisionTreeRegressor(random_state=0)\n",
        "dtr.fit(x_train,y_train)\n",
        "\n",
        "#predicting the value\n",
        "\n",
        "y_pred=dtr.predict(x_test)\n",
        "\n",
        "#evaluating the model\n",
        "\n",
        "from sklearn.metrics import r2_score,mean_squared_error\n",
        "print(\"Results for Decision Tree Regression:\\n1)Mean Square Error={}\\n2)R-Square Score={}\".format(mean_squared_error(y_test,y_pred),r2_score(y_test,y_pred)))\n",
        "\n"
      ],
      "metadata": {
        "colab": {
          "base_uri": "https://localhost:8080/"
        },
        "id": "_kxnxlXRdLVC",
        "outputId": "844c1ed0-7add-4806-8d24-dc7b29669eb3"
      },
      "execution_count": null,
      "outputs": [
        {
          "output_type": "stream",
          "name": "stdout",
          "text": [
            "Results for Decision Tree Regression:\n",
            "1)Mean Square Error=0.02869558679551398\n",
            "2)R-Square Score=0.9665387032631313\n"
          ]
        }
      ]
    },
    {
      "cell_type": "markdown",
      "source": [
        "### 4)Random Forest Regression"
      ],
      "metadata": {
        "id": "G_K8d8W3nbNi"
      }
    },
    {
      "cell_type": "code",
      "source": [
        "from sklearn.ensemble import RandomForestRegressor\n",
        "rfr= RandomForestRegressor(n_estimators=10,random_state=42)\n",
        "rfr.fit(x_train,y_train)\n",
        "\n",
        "#predicting the value\n",
        "\n",
        "y_pred=rfr.predict(x_test)\n",
        "\n",
        "#evaluating the model\n",
        "\n",
        "from sklearn.metrics import r2_score,mean_squared_error\n",
        "print(\"Results for Decision Tree Regression:\\n1)Mean Square Error={}\\n2)R-Square Score={}\".format(mean_squared_error(y_test,y_pred),r2_score(y_test,y_pred)))\n",
        "\n",
        "\n"
      ],
      "metadata": {
        "colab": {
          "base_uri": "https://localhost:8080/"
        },
        "id": "4IjgvGIodRgv",
        "outputId": "342b3663-6a2e-4584-b481-df651a67ed57"
      },
      "execution_count": null,
      "outputs": [
        {
          "output_type": "stream",
          "name": "stdout",
          "text": [
            "Results for Decision Tree Regression:\n",
            "1)Mean Square Error=0.007835791117425911\n",
            "2)R-Square Score=0.9908628551973261\n"
          ]
        }
      ]
    },
    {
      "cell_type": "markdown",
      "source": [
        "Conclusion:\n",
        "\n",
        "# **Random Forest Regression works** well on both train and test sets with r2 score of 0.99.\n",
        "\n",
        "## As well as **Decision Tree Regression** also works well on both train and test set with r2 score of 0.98."
      ],
      "metadata": {
        "id": "bM_Nr_E9nq-O"
      }
    },
    {
      "cell_type": "code",
      "source": [
        "np.random.seed(range(0,100))\n",
        "print(\"Welcome to Mental Fitness Tracker!\\nFill the detail to check your mental fitness!\")\n",
        "country=l.fit_transform([input('Enter Your country Name:')])\n",
        "year=int(input(\"Enter the Year:\"))\n",
        "schi=(float(input(\"Enter your Schizophrenia rate in % (it not enter 0):\")))*100\n",
        "bipo_dis=(float(input(\"Enter your Bipolar disorder rate in % (it not enter 0):\")))*100\n",
        "eat_dis=(float(input(\"Enter your Eating disorder rate in % (it not enter 0):\")))*100\n",
        "anx=(float(input(\"Enter your Anxiety rate in % (it not enter 0):\")))*10\n",
        "drug_use=(float(input(\"Enter your Drug Usage rate in per year % (it not enter 0):\")))*100\n",
        "depr=(float(input(\"Enter your Depression rate in % (it not enter 0):\")))*10\n",
        "alch=(float(input(\"Enter your Alcohol Consuming rate per year in % (it not enter 0):\")))*100\n",
        "\n",
        "prediction=rfr.predict([[country,year,schi,bipo_dis,eat_dis,anx,drug_use,depr,alch]])\n",
        "print(\"Your Mental Fitness is {}%\".format(prediction*10))\n",
        "print(\"Thank you for checking ur mental fitness all ways smile :)\")"
      ],
      "metadata": {
        "colab": {
          "base_uri": "https://localhost:8080/"
        },
        "id": "ufyTpjtcdfGk",
        "outputId": "265940fc-daa6-453a-bb70-3373397e2a06"
      },
      "execution_count": null,
      "outputs": [
        {
          "output_type": "stream",
          "name": "stdout",
          "text": [
            "Welcome to Mental Fitness Tracker!\n",
            "Fill the detail to check your mental fitness!\n",
            "Enter Your country Name:Afghanistan\n",
            "Enter the Year:2004\n",
            "Enter your Schizophrenia rate in % (it not enter 0):3\n",
            "Enter your Bipolar disorder rate in % (it not enter 0):5\n",
            "Enter your Eating disorder rate in % (it not enter 0):5\n",
            "Enter your Anxiety rate in % (it not enter 0):7\n",
            "Enter your Drug Usage rate in per year % (it not enter 0):3\n",
            "Enter your Depression rate in % (it not enter 0):7\n",
            "Enter your Alcohol Consuming rate per year in % (it not enter 0):3\n",
            "Your Mental Fitness is [40.34976077]%\n",
            "Thank you for checking ur mental fitness all ways smile :)\n"
          ]
        }
      ]
    },
    {
      "cell_type": "markdown",
      "source": [
        "Final Result of My Project is shown Above Good Working And Give Exact Result"
      ],
      "metadata": {
        "id": "Bx2SwDv4n9ZL"
      }
    },
    {
      "cell_type": "code",
      "source": [],
      "metadata": {
        "id": "3_oQBedddqSu"
      },
      "execution_count": null,
      "outputs": []
    }
  ]
}